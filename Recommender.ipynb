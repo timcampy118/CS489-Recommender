{
 "cells": [
  {
   "cell_type": "markdown",
   "metadata": {},
   "source": [
    "#### CSCE 489 :: Recommender Systems :: Texas A&M University :: Spring 2021\n",
    "\n",
    "\n",
    "# Homework 3: Matrix Factorization\n",
    "\n",
    "### 100 points [10% of your final grade]\n",
    "\n",
    "- **Due Friday, March 26 by 11:59pm**\n",
    "\n",
    "*Goals of this homework:* The objective of this homework is to turn the theory of matrix factorization into practice, and compare the results with your naive non-personalized recommendation from Homework 1, and neighborhood-based collaborative filtering algorithms from Homework 2 to see how matrix factorization model provides better recommendations for both the rating prediction task (with explicit feedback) and the ranking task (with implicit feedback).\n",
    "\n",
    "*Submission instructions (Canvas):* To submit your homework, rename this notebook as `UIN_hw3.ipynb`. For example, if your UIN is `123456789`, then your homework submission would be `123456789_hw3.ipynb`. Submit this notebook via Canvas. Your notebook should be completely self-contained, with the results visible in the notebook. We should not have to run any code from the command line, nor should we have to run your code within the notebook (though we reserve the right to do so). So please run all the cells for us, and then submit. \n",
    "\n",
    "*Late policy:* You may use up to three of your late days on this assignment. No homeworks will be accepted after March 29 11:59pm."
   ]
  },
  {
   "cell_type": "markdown",
   "metadata": {},
   "source": [
    "## Collaboration Declaration:"
   ]
  },
  {
   "cell_type": "markdown",
   "metadata": {},
   "source": [
    "***You must add all of your collaboration declarations here. Who did you talk to about this assignment? What web resources did you use? Etc.***\n",
    "\n",
    "For example:\n",
    "* Part 1a: I talked to Amy about how to split the data randomly. She helped me understand that I needed to use a random number generator.\n",
    "* Part 1b: I needed help on how to comment my code, so I relied on this StackOverflow thread: https://stackoverflow.com/questions/184618/what-is-the-best-comment-in-source-code-you-have-ever-encountered\n",
    "* (Replace this bullet list with your own collaboration declarations.)\n"
   ]
  },
  {
   "cell_type": "markdown",
   "metadata": {},
   "source": [
    "# Part 1. Recommendations with User Ratings (Explicit Feedback) (80 points total)\n",
    "\n",
    "In this first part, similar to Part 1 in our Homework 1 and Homework 2, we still focus on the rating prediction recommendation task with explicit feedback. But in this part, you will need to build a **matrix factorization** model. You will also evaluate your matrix factorization model to compare with the non-personalized one in Homework 1 and neighborhood-based collaborative filtering models in Homework 2. You may refer to our homework sample solutions for the previous homeworks in case you had trouble with them before.\n",
    "\n",
    "For this part, we will:\n",
    "\n",
    "* load and process the MovieLens 1M dataset, \n",
    "* build a matrix factorization model,\n",
    "* tune three hyper-parameters of the matrix factorization model: training epoch, latent dimension and regularization weight,"
   ]
  },
  {
   "cell_type": "markdown",
   "metadata": {},
   "source": [
    "Before you start to build your recommendation models. First, we need to load and preprocess the experimental dataset. We still use the MovieLens 1M data from https://grouplens.org/datasets/movielens/1m/ in this homework, and use the same loading and preprocessing process as Homework 2. The code has been provided in the next cell, and you need to run it. The resulting data variables are the same as those in Homework 1: train_mat is the numpy array variable for training data of size (#users, #items) with non-zero entries representing user-item ratings, and zero entries representing unknown user-item ratings; and test_mat is the numpy array variable for testing data of size (#users, #items)."
   ]
  },
  {
   "cell_type": "code",
   "execution_count": 3,
   "metadata": {},
   "outputs": [
    {
     "name": "stdout",
     "output_type": "stream",
     "text": [
      "test\n"
     ]
    }
   ],
   "source": [
    "import pandas as pd\n",
    "import numpy as np\n",
    "from scipy.sparse import coo_matrix\n",
    "\n",
    "data_df = pd.read_csv('./ratings.dat', sep='::', names=[\"UserID\", \"MovieID\", \"Rating\", \"Timestamp\"], engine='python')\n",
    "\n",
    "# First, generate dictionaries for mapping old id to new id for users and movies\n",
    "unique_MovieID = data_df['MovieID'].unique()\n",
    "unique_UserID = data_df['UserID'].unique()\n",
    "j = 0\n",
    "user_old2new_id_dict = dict()\n",
    "for u in unique_UserID:\n",
    "    user_old2new_id_dict[u] = j\n",
    "    j += 1\n",
    "j = 0\n",
    "movie_old2new_id_dict = dict()\n",
    "for i in unique_MovieID:\n",
    "    movie_old2new_id_dict[i] = j\n",
    "    j += 1\n",
    "    \n",
    "# Then, use the generated dictionaries to reindex UserID and MovieID in the data_df\n",
    "user_list = data_df['UserID'].values\n",
    "movie_list = data_df['MovieID'].values\n",
    "for j in range(len(data_df)):\n",
    "    user_list[j] = user_old2new_id_dict[user_list[j]]\n",
    "    movie_list[j] = movie_old2new_id_dict[movie_list[j]]\n",
    "data_df['UserID'] = user_list\n",
    "data_df['movieID'] = movie_list\n",
    "\n",
    "# generate train_df with 70% samples and test_df with 30% samples, and there should have no overlap between them.\n",
    "train_index = np.random.random(len(data_df)) <= 0.7\n",
    "train_df = data_df[train_index]\n",
    "test_df = data_df[~train_index]\n",
    "\n",
    "# generate train_mat and test_mat\n",
    "num_user = len(data_df['UserID'].unique())\n",
    "num_movie = len(data_df['MovieID'].unique())\n",
    "\n",
    "train_mat = coo_matrix((train_df['Rating'].values, (train_df['UserID'].values, train_df['MovieID'].values)), shape=(num_user, num_movie)).astype(float).toarray()\n",
    "test_mat = coo_matrix((test_df['Rating'].values, (test_df['UserID'].values, test_df['MovieID'].values)), shape=(num_user, num_movie)).astype(float).toarray()\n",
    "print(\"test\")"
   ]
  },
  {
   "cell_type": "markdown",
   "metadata": {},
   "source": [
    "## Part 1a: Build the Matrix Factorization Model (50 points)\n",
    "\n",
    "First, let's implement the matrix factorization (MF for short) model introduced in class. The MF model can be mathematically represented as: \n",
    "\n",
    "<center>$\\underset{\\mathbf{P},\\mathbf{Q}}{\\text{min}}\\,\\,L=\\sum_{(u,i)\\in\\mathcal{O}}(\\mathbf{P}_u\\cdot\\mathbf{Q}^\\top_i-r_{u,i})^2+\\lambda(\\lVert\\mathbf{P}\\rVert^2_{\\text{F}}+\\lVert\\mathbf{Q}\\rVert^2_{\\text{F}})$,</center>\n",
    "    \n",
    "where $\\mathbf{P}$ is the user latent factor matrix of size (#user, #latent); $\\mathbf{Q}$ is the movie latent factor matrix of size (#movie, #latent); $\\mathcal{O}$ is a user-movie pair set containing all user-movie pairs having ratings in train_mat; $r_{u,i}$ represents the rating for user u and movie i; $\\lambda(\\lVert\\mathbf{P}\\rVert^2_{\\text{F}}+\\lVert\\mathbf{Q}\\rVert^2_{\\text{F}})$ is the regularization term to overcome overfitting problem, $\\lambda$ is the regularization weight (a hyper-parameter manually set by developer, i.e., you), and $\\lVert\\mathbf{P}\\rVert^2_{\\text{F}}=\\sum_{x}\\sum_{y}(\\mathbf{P}_{x,y})^2$, $\\lVert\\mathbf{Q}\\rVert^2_{\\text{F}}=\\sum_{x}\\sum_{y}(\\mathbf{Q}_{x,y})^2$. Such an L function is called the **loss function** for the matrix factorization model. The goal of training an MF model is to find appropriate $\\mathbf{P}$ and $\\mathbf{Q}$ to minimize the loss L."
   ]
  },
  {
   "cell_type": "markdown",
   "metadata": {},
   "source": [
    "To implement such an MF, here we will write a Python class for the model. There are three functions in this MF class: init, train, and predict. \n",
    "\n",
    "* The 'init' function (**already provided**) is to initialize the variables the MF class needs, which takes 5 inputs: train_mat, test_mat, latent, lr, and reg. 'train_mat' and 'test_mat' are the corresponfing training and testing matrices we have. 'latent' represents the latent dimension we set for the MF model. 'lr' represents the learning rate, i.e., the update step in each optimization iteration, default is 0.01. 'reg' represents the regularization weight, i.e., the $\\lambda$ in the MF formulation.\n",
    "\n",
    "* The 'train' function (**partially provided and need to complete**) is to train the MF model given the training data train_mat. There is only one input to this function: an int variable 'epoch' to indicate how many epochs for training the model. The main body of this function should be a loop for 'epoch' iterations. In each iteration, following the algorithm to update the MF model:\n",
    "\n",
    "        1. Randomly shuffle training user-movie pairs  (i.e., user-movie pairs having ratings in train_mat)\n",
    "        2. Have an inner loop to iterate each user-movie pair:\n",
    "                a. given a user-movie pair (u,i), update the user latent factor and movie latent factor by gradient decsent:    \n",
    "<center>$\\mathbf{P}_u=\\mathbf{P}_u-\\gamma [2(\\mathbf{P}_u\\cdot\\mathbf{Q}_i^\\top-r_{u,i})\\cdot\\mathbf{Q}_i+2\\lambda\\mathbf{P}_u]$</center>    \n",
    "<center>$\\mathbf{Q}_i=\\mathbf{Q}_i-\\gamma [2(\\mathbf{P}_u\\cdot\\mathbf{Q}_i^\\top-r_{u,i})\\cdot\\mathbf{P}_u+2\\lambda\\mathbf{Q}_i]$</center>    \n",
    "<center>where $\\mathbf{P}_u$ and $\\mathbf{Q}_i$ are row vectors of size (1, #latent), $\\gamma$ is learning rate (default is 0.01), $\\lambda$ is regularization weight.</center>\n",
    "        \n",
    "        3. After iterating over all user-movie pairs, we have finished the training for the current epoch. Now calculate and print out the value of the loss function L after this epoch, and the RMSE on test_mat by the current MF model. Then append them to lists to keep a record of them.\n",
    "The train function needs to return two lists: 'epoch_loss_list' recording the loss after each training epoch, and 'epoch_test_RMSE_list' recording the RMSE on test_mat after each training epoch.\n",
    "\n",
    "* The 'predict' function (**already provided**) is to calculate the prediction_mat by the learned $\\mathbf{P}$ and $\\mathbf{Q}$.\n"
   ]
  },
  {
   "cell_type": "markdown",
   "metadata": {},
   "source": [
    "In the next cell, we provide the 'init' and 'predict' functions. You will need to fill in the 'train' function based on the description above. \n",
    "\n",
    "**NOTE that you should not delete or modify the provided code.**"
   ]
  },
  {
   "cell_type": "code",
   "execution_count": 4,
   "metadata": {},
   "outputs": [],
   "source": [
    "class MF:\n",
    "    def __init__(self, train_mat, test_mat, latent=5, lr=0.01, reg=0.01):\n",
    "        self.train_mat = train_mat  # the training rating matrix of size (#user, #movie)\n",
    "        self.test_mat = test_mat  # the training rating matrix of size (#user, #movie)\n",
    "        \n",
    "        self.latent = latent  # the latent dimension\n",
    "        self.lr = lr  # learning rate\n",
    "        self.reg = reg  # regularization weight, i.e., the lambda in the objective function\n",
    "        \n",
    "        self.num_user, self.num_movie = train_mat.shape\n",
    "        \n",
    "        self.sample_user, self.sample_movie = self.train_mat.nonzero()  # get the user-movie paris having ratings in train_mat\n",
    "        self.num_sample = len(self.sample_user)  # the number of user-movie pairs having ratings in train_mat\n",
    "\n",
    "        self.train_indicator_mat = 1.0 * (train_mat > 0)  # binary matrix to indicate whether s user-movie pair has rating or not in train_mat\n",
    "        self.test_indicator_mat = 1.0 * (test_mat > 0)  # binary matrix to indicate whether s user-movie pair has rating or not in test_mat\n",
    "\n",
    "        self.P = np.random.random((self.num_user, self.latent))  # latent factors for users, size (#user, self.latent), randomly initialized\n",
    "        self.Q = np.random.random((self.num_movie, self.latent))  # latent factors for users, size (#movie, self.latent), randomly initialized\n",
    "\n",
    "    def train(self, epoch=20, verbose=True):\n",
    "        \"\"\"\n",
    "        Goal: Write your code to train your matrix factorization model for epoch iterations in this function\n",
    "        Input: epoch -- the number of training epoch \n",
    "        Output: epoch_loss_list -- a list recording the training loss for each epoch\n",
    "                epoch_test_RMSE_list -- a list recording the testing RMSE after each training epoch\n",
    "        \"\"\"\n",
    "        epoch_loss_list = []\n",
    "        epoch_test_RMSE_list = []\n",
    "        for ep in range(epoch):\n",
    "            \"\"\" \n",
    "            Write your code here to implement the training process for one epoch, \n",
    "            and at the end of each epoch, print out the epoch number, the training loss after this epoch, \n",
    "            and the test RMSE after this epoch\n",
    "            \"\"\"\n",
    "            training_indices = np.arange(self.num_sample)\n",
    "            #shuffle the training samples\n",
    "            np.random.shuffle(training_indices)  \n",
    "            ratings = self.train_mat[self.sample_user, self.sample_movie]\n",
    "            for idx in training_indices:\n",
    "                u = self.sample_user[idx]\n",
    "                i = self.sample_movie[idx]              \n",
    "                rating = ratings[idx]\n",
    "                p_u = self.P[u, :]\n",
    "                q_i = self.Q[i, :]\n",
    "                prediction = np.matmul(p_u, q_i.T)\n",
    "                error = prediction - rating\n",
    "                gradient_P = 2. * error * q_i + 2. * self.reg * p_u\n",
    "                gradient_Q = 2. * error * p_u + 2. * self.reg * q_i\n",
    "                self.P[u, :] -= self.lr * gradient_P\n",
    "                self.Q[i, :] -= self.lr * gradient_Q\n",
    "            prediction_mat = np.matmul(self.P, self.Q.T)\n",
    "                \n",
    "            epoch_loss = np.sum(np.square(prediction_mat * self.train_indicator_mat - self.train_mat)) / np.sum(self.train_indicator_mat)\n",
    "            epoch_loss += self.reg * (np.sum(self.P ** 2) + np.sum(self.Q ** 2))\n",
    "            epoch_loss_list.append(epoch_loss)\n",
    "            \n",
    "            test_rmse = (np.sum(((prediction_mat - self.test_mat) * self.test_indicator_mat) ** 2) / np.sum(self.test_indicator_mat)) ** 0.5\n",
    "            epoch_test_RMSE_list.append(test_rmse)\n",
    "            if verbose:\n",
    "                print('Epoch={0}, Training Loss={1}, Testing RMSE={2}'.format(ep + 1, epoch_loss, test_rmse))\n",
    "            \n",
    "            \n",
    "            \n",
    "            \n",
    "        \n",
    "        \n",
    "        \n",
    "            \n",
    "        \n",
    "    \n",
    "            \"\"\"\n",
    "           \n",
    "            End of your code for this function\n",
    "            \"\"\"\n",
    "            \n",
    "        return epoch_loss_list, epoch_test_RMSE_list\n",
    "        \n",
    "        \n",
    "    def predict(self):\n",
    "        prediction_mat = np.matmul(self.P, self.Q.T)\n",
    "        return prediction_mat\n",
    "    "
   ]
  },
  {
   "cell_type": "markdown",
   "metadata": {},
   "source": [
    "Now, let's train an MF model based on your implementation. The code is provided, you just need to excute the next cell. The expectations are: \n",
    "\n",
    "* first, the code can be successfully excuted without error; \n",
    "* and second, the training loss and RMSE on **test_mat** of each training epoch should be printed out for all 20 epochs.\n",
    "\n",
    "\n",
    "* Hint: the expected time used for training is around 10s to 60s per training epoch."
   ]
  },
  {
   "cell_type": "code",
   "execution_count": 5,
   "metadata": {},
   "outputs": [
    {
     "name": "stdout",
     "output_type": "stream",
     "text": [
      "Epoch=1, Training Loss=33.417041648561856, Testing RMSE=0.951798404804904\n",
      "Epoch=2, Training Loss=34.482191443288606, Testing RMSE=0.9450181073232736\n",
      "Epoch=3, Training Loss=35.053795500146414, Testing RMSE=0.9398085049845118\n",
      "Epoch=4, Training Loss=35.64840432844217, Testing RMSE=0.9279594278286066\n",
      "Epoch=5, Training Loss=36.193385766593344, Testing RMSE=0.9210718384657126\n",
      "Epoch=6, Training Loss=36.69769110043289, Testing RMSE=0.9162952578327174\n",
      "Epoch=7, Training Loss=37.129224655082105, Testing RMSE=0.9143176927896299\n",
      "Epoch=8, Training Loss=37.55623627844424, Testing RMSE=0.9110042427730998\n",
      "Epoch=9, Training Loss=37.9399895631688, Testing RMSE=0.9091170012522927\n",
      "Epoch=10, Training Loss=38.259044208619, Testing RMSE=0.9088495153565628\n",
      "Epoch=11, Training Loss=38.54089475557417, Testing RMSE=0.9091631119534563\n",
      "Epoch=12, Training Loss=38.84414312484118, Testing RMSE=0.9067876556083065\n",
      "Epoch=13, Training Loss=39.12992128340931, Testing RMSE=0.9045733671816765\n",
      "Epoch=14, Training Loss=39.419779621632294, Testing RMSE=0.9055617652337996\n",
      "Epoch=15, Training Loss=39.629577279427465, Testing RMSE=0.9047159899012869\n",
      "Epoch=16, Training Loss=39.821866242717455, Testing RMSE=0.9061993061890847\n",
      "Epoch=17, Training Loss=40.043335652445734, Testing RMSE=0.9032553079969934\n",
      "Epoch=18, Training Loss=40.30400631926516, Testing RMSE=0.9042224088125896\n",
      "Epoch=19, Training Loss=40.43808035797726, Testing RMSE=0.9058268968559784\n",
      "Epoch=20, Training Loss=40.643481796498264, Testing RMSE=0.9035479535277964\n"
     ]
    }
   ],
   "source": [
    "mf = MF(train_mat, test_mat, latent=5, lr=0.01, reg=0.001)\n",
    "epoch_loss_list, epoch_test_RMSE_list = mf.train(epoch=20)"
   ]
  },
  {
   "cell_type": "markdown",
   "metadata": {},
   "source": [
    "## Part 1b: Tune Hyper-parameters in Matrix Factorization (30 points)\n",
    "\n",
    "In Part 1a, we train an MF model with latent dimension set as 5, regularization weight as 0.001, training epoch as 20. However, it is not clear whether these are good choices or not. Hence, in this part, we will tune these hyper-parameters to train an effective model.\n",
    "\n",
    "A most straightforward but powerful method is to grid search each hyper-parameter and find the best one based on the RMSE on test_mat. In this part, we will do the grid search for train epoch, latent dimension, and regularization weight."
   ]
  },
  {
   "cell_type": "markdown",
   "metadata": {},
   "source": [
    "#### Tune training epoch####\n",
    "\n",
    "For training epoch, we only need to run the experiment of MF for one time, and record the test RMSE for each epoch and find the epoch that produces the best test RMSE. To visually show the change of test RMSE corresponding to the training epoch, we can plot the test RMSE for each epoch in a figure as shown in the next cell.\n",
    "\n",
    "**Note that you need to first install the matplotlib, then you can excute the next cell**"
   ]
  },
  {
   "cell_type": "code",
   "execution_count": 6,
   "metadata": {},
   "outputs": [
    {
     "data": {
      "image/png": "[encoded data removed]",
      "text/plain": [
       "<Figure size 576x288 with 1 Axes>"
      ]
     },
     "metadata": {
      "needs_background": "light"
     },
     "output_type": "display_data"
    }
   ],
   "source": [
    "import matplotlib.pyplot as plt\n",
    "\n",
    "fig, ax = plt.subplots(nrows=1, ncols=1, figsize=(8, 4))\n",
    "ax.plot(np.arange(len(epoch_test_RMSE_list)) + 1, epoch_test_RMSE_list, marker='.', linewidth=1.5, markersize=8)\n",
    "ax.set_xticks(np.arange(len(epoch_test_RMSE_list)) + 1)\n",
    "ax.set_ylabel('test RMSE')\n",
    "ax.set_xlabel('epoch')\n",
    "ax.set_title('Tune training epoch')\n",
    "ax.grid(True)\n",
    "plt.tight_layout()\n",
    "plt.show()"
   ]
  },
  {
   "cell_type": "markdown",
   "metadata": {},
   "source": [
    "Based on this plot, what is the best epoch for your MF model?"
   ]
  },
  {
   "cell_type": "markdown",
   "metadata": {},
   "source": [
    "Write your answer here."
   ]
  },
  {
   "cell_type": "markdown",
   "metadata": {},
   "source": [
    "#### Tune latent dimension####\n",
    "\n",
    "By this figure, you can find the best epoch for your MF model. Similarly, you can plot how the test RMSE changes when you set different latent dimensions. For this, you need to run the code to initialize and train the MF model for multiple times with different settings of 'latent'. Please run the MF model with 'latent' as {1,3,5,7,9}, and plot the corresponding test RMSE for these five different latent dimensions in the next cell. \n",
    "\n",
    "**Note that for these five runs of experiments, record the test RMSE after E training epochs -- E is the best epoch you find by the 'Tune training epoch' plot. And here, fix regularization weight as 0.001**.\n",
    "\n",
    "**Note that the expected output of the next cell is just the plot, you don't need to show the code and printing of the experiment with different 'latent' here.**"
   ]
  },
  {
   "cell_type": "code",
   "execution_count": 7,
   "metadata": {
    "scrolled": true
   },
   "outputs": [
    {
     "data": {
      "image/png": "[encoded data removed]",
      "text/plain": [
       "<Figure size 576x288 with 1 Axes>"
      ]
     },
     "metadata": {
      "needs_background": "light"
     },
     "output_type": "display_data"
    }
   ],
   "source": [
    "# Your Code Here...\n",
    "test_rmse_list = []\n",
    "for latent in [1,3,5,7,9]:\n",
    "    mf = MF(train_mat, test_mat, latent=latent, lr=0.01, reg=0.001)\n",
    "    _, epoch_test_RMSE_list = mf.train(epoch=20, verbose=False)\n",
    "    test_rmse_list.append(epoch_test_RMSE_list[-1])\n",
    "    \n",
    "fig, ax = plt.subplots(nrows=1, ncols=1, figsize=(8, 4))\n",
    "ax.plot([1,3,5,7,9], test_rmse_list, marker='.', linewidth=1.5, markersize=8)\n",
    "ax.set_xticks([1,3,5,7,9])\n",
    "ax.set_ylabel('test RMSE')\n",
    "ax.set_xlabel('latent dimention')\n",
    "ax.set_title('Tune latent dimension')\n",
    "ax.grid(True)\n",
    "plt.tight_layout()\n",
    "plt.show()"
   ]
  },
  {
   "cell_type": "markdown",
   "metadata": {},
   "source": [
    "Based on this plot, what is the best latent dimension for your MF model?"
   ]
  },
  {
   "cell_type": "markdown",
   "metadata": {},
   "source": [
    "Write your answer here."
   ]
  },
  {
   "cell_type": "markdown",
   "metadata": {},
   "source": [
    "#### Tune regularization weight####\n",
    "\n",
    "Last, you can plot how the test RMSE changes when you set different regularization weight. Please run the MF model with 'reg' as {0.0001,0.0005,0.001,0.0015,0.002}, and plot corresponding test RMSE for these five different regularization weights in the next cell. \n",
    "\n",
    "**Note that for these five runs of experiments, record the test RMSE after E training epochs -- E is the best epoch you find by the 'Tune training epoch' plot. And here, fix latent dimension as the one you find the best by the previous part**\n",
    "\n",
    "**Note that the expected output of the next cell is just the plot, you don't need to show the code and printing of the experiment with different 'reg' here.**"
   ]
  },
  {
   "cell_type": "code",
   "execution_count": 8,
   "metadata": {},
   "outputs": [
    {
     "data": {
      "image/png": "[encoded data removed]",
      "text/plain": [
       "<Figure size 576x288 with 1 Axes>"
      ]
     },
     "metadata": {
      "needs_background": "light"
     },
     "output_type": "display_data"
    }
   ],
   "source": [
    "# Your Code Here...\n",
    "test_rmse_list = []\n",
    "for reg in [0.0001,0.0005,0.001,0.0015,0.002]:\n",
    "    mf = MF(train_mat, test_mat, latent=5, lr=0.01, reg=reg)\n",
    "    _, epoch_test_RMSE_list = mf.train(epoch=20, verbose=False)\n",
    "    test_rmse_list.append(epoch_test_RMSE_list[-1])\n",
    "    \n",
    "fig, ax = plt.subplots(nrows=1, ncols=1, figsize=(8, 4))\n",
    "ax.plot([0.0001,0.0005,0.001,0.0015,0.002], test_rmse_list, marker='.', linewidth=1.5, markersize=8)\n",
    "ax.set_xticks([0.0001,0.0005,0.001,0.0015,0.002])\n",
    "ax.set_ylabel('test RMSE')\n",
    "ax.set_xlabel('regularization weight')\n",
    "ax.set_title('Tune regularization weight')\n",
    "ax.grid(True)\n",
    "plt.tight_layout()\n",
    "plt.show()"
   ]
  },
  {
   "cell_type": "markdown",
   "metadata": {},
   "source": [
    "Based on this plot, what is the best regularization weight for your MF model?"
   ]
  },
  {
   "cell_type": "markdown",
   "metadata": {},
   "source": [
    "*Write your answer here*"
   ]
  },
  {
   "cell_type": "markdown",
   "metadata": {},
   "source": [
    "# Part 2. Recommendations with implicit feedback (20 points total)\n",
    "\n",
    "### Pay special attention to the points allocated for each part. Part 2 is quite involved and should take considerable time. It is also a bit challenging, so we are only assigning 20 points here.\n",
    "\n",
    "Now we turn to study how matrix factorization algorithms works for recommendations with implicit feedback. The overall pipeline is the same as in Part 2 of Homework 1 and Homework 2. But now you need to implement a matrix factorization algorithm for recommendation.\n",
    "\n",
    "In this part, you will use the same MovieLens 1M dataset, and:\n",
    "* write the code to implement a matrix factorization algorithm,\n",
    "* and evaluate your recommender."
   ]
  },
  {
   "cell_type": "markdown",
   "metadata": {},
   "source": [
    "Before the algorithm implementation, we need to first transfer the explicit datasets you already generated to implicit ones. The process is the same as Part 2 in Homework 2, and the code has been provided. You need to run the code in the next cell."
   ]
  },
  {
   "cell_type": "code",
   "execution_count": 9,
   "metadata": {},
   "outputs": [],
   "source": [
    "train_mat = (train_mat > 0).astype(float)\n",
    "test_mat = (test_mat > 0).astype(float)"
   ]
  },
  {
   "cell_type": "markdown",
   "metadata": {},
   "source": [
    "Then, you need to write code to implement a matrix factorization algorithm. Although we have not discussed in class how to use matrix factorization algorithm for implicit feedback, it is quite straightforward. The main idea is the same as the MF model for explicit ratings as you aleady implemented in Part 1. But instead of predicting explicit ratings, here the MF is to predict binary ratings based on which movies are ranked for users.\n",
    "\n",
    "The only challenge now is that in an implicit feedback dataset, there is only positive signal (i.e., '1' in the train_mat) without negative signal. Hence, to let our MF work for this implicit feedback, a simple but powerful method -- random negative sampling -- is adopted. The main idea is that in each training epoch, we randomly sample user-movie pairs without positive feedback in train_mat (user-movie pairs with '0' in train_mat) to be negative feedback, and mix them with positive feedback as the training data to train the MF model. The **negative sampling method is already provided**."
   ]
  },
  {
   "cell_type": "markdown",
   "metadata": {},
   "source": [
    "In the Next cell, you need to complete the MF_implicit class. There are five functions in this class: \n",
    "\n",
    "* 'init' (**provided**) is to initialize variables; \n",
    "\n",
    "* 'negative_sampling' (**provided**) is to do the random negative sampling to generate negative signals for training the MF. It returns a list of users and a list of movies as the training samples, mixing positive and negative user-movie pairs.\n",
    "\n",
    "* 'test' (**provided**) is to evaluate the trained MF on test_mat and print out recall@k and precision@k. \n",
    "\n",
    "* 'predict' (**need to be completed**) is to generate the ranked lists of movies by the trained MF for every user, store the ranking result (named 'recommendation') in a numpy array of size (#user, 50), where entry (u, k) represents the movie id that is ranked at position k in the recommendation list to user u. Return the 'recommendation' variable. \n",
    "\n",
    "* 'train' (**need to be completed**) is to train the MF model. There is only one input to this function: an int variable 'epoch' to indicate how many epochs for training the model. The main logic of this function is the same as the one you already implemented in Part 1a. The main body of this function should be a loop for 'epoch' iterations. In each iteration, following the algorithm to update the MF model:\n",
    "\n",
    "        1. Call 'negative_sampling()' to generate a list of users and a list of movies mixing positive and negative user-movie pairs as training samples.\n",
    "        2. Randomly shuffle training user-movie pairs  (i.e., user-movie pairs from step 1)\n",
    "        2. Have an inner loop to iterate each user-movie pair:\n",
    "                a. given a user-movie pair (u,i), update the user latent factor and movie latent factor by gradient decsent:    \n",
    "<center>$\\mathbf{P}_u=\\mathbf{P}_u-\\gamma [2(\\mathbf{P}_u\\cdot\\mathbf{Q}_i^\\top-r_{u,i})\\cdot\\mathbf{Q}_i+2\\lambda\\mathbf{P}_u]$</center>    \n",
    "<center>$\\mathbf{Q}_i=\\mathbf{Q}_i-\\gamma [2(\\mathbf{P}_u\\cdot\\mathbf{Q}_i^\\top-r_{u,i})\\cdot\\mathbf{P}_u+2\\lambda\\mathbf{Q}_i]$</center>    \n",
    "<center>where $\\mathbf{P}_u$ and $\\mathbf{Q}_i$ are row vectors of size (1, #latent), $\\gamma$ is learning rate (default is 0.01), $\\lambda$ is regularization weight, and $r_{u,i}$ now takes binary value.</center>\n",
    "        \n",
    "        3. After iterating over all user-movie pairs, call 'test()' to evaluate the current MF model.\n",
    "\n",
    "**Note: you are not supposed to delete or modify the provided code.**\n",
    "\n",
    "**Note: for this part, it is necessary to read and understand the provided code, because you will need to call the provided functions in your code.**"
   ]
  },
  {
   "cell_type": "code",
   "execution_count": 10,
   "metadata": {},
   "outputs": [],
   "source": [
    "class MF_implicit:\n",
    "    def __init__(self, train_mat, test_mat, latent=5, lr=0.01, reg=0.01):\n",
    "        self.train_mat = train_mat  # the training rating matrix of size (#user, #movie)\n",
    "        self.test_mat = test_mat  # the training rating matrix of size (#user, #movie)\n",
    "        \n",
    "        self.latent = latent  # the latent dimension\n",
    "        self.lr = lr  # learning rate\n",
    "        self.reg = reg  # regularization weight, i.e., the lambda in the objective function\n",
    "        \n",
    "        self.num_user, self.num_movie = train_mat.shape\n",
    "        \n",
    "        self.sample_user, self.sample_movie = self.train_mat.nonzero()  # get the user-movie paris having ratings in train_mat\n",
    "        self.num_sample = len(self.sample_user)  # the number of user-movie pairs having ratings in train_mat\n",
    "\n",
    "        self.user_test_like = []\n",
    "        for u in range(self.num_user):\n",
    "            self.user_test_like.append(np.where(self.test_mat[u, :] > 0)[0])\n",
    "\n",
    "        self.P = np.random.random((self.num_user, self.latent))  # latent factors for users, size (#user, self.latent), randomly initialized\n",
    "        self.Q = np.random.random((self.num_movie, self.latent))  # latent factors for users, size (#movie, self.latent), randomly initialized\n",
    "        \n",
    "    def negative_sampling(self):\n",
    "        negative_movie = np.random.choice(np.arange(self.num_movie), size=(len(self.sample_user)), replace=True)\n",
    "        true_negative = self.train_mat[self.sample_user, negative_movie] == 0\n",
    "        negative_user = self.sample_user[true_negative]\n",
    "        negative_movie = negative_movie[true_negative]\n",
    "        return np.concatenate([self.sample_user, negative_user]), np.concatenate([self.sample_movie, negative_movie])\n",
    "\n",
    "    def train(self, epoch=20):\n",
    "        \"\"\"\n",
    "        Goal: Write your code to train your matrix factorization model for epoch iterations in this function\n",
    "        Input: epoch -- the number of training epoch \n",
    "        \"\"\"\n",
    "        for ep in range(epoch):\n",
    "            \"\"\" \n",
    "            Write your code here to implement the training process for one epoch, \n",
    "            at the end of each epoch, run self.test() to evaluate current version of MF.\n",
    "            \"\"\"\n",
    "            sample_user, sample_movie = self.negative_sampling()\n",
    "            num_sample = len(sample_user)\n",
    "            training_indices = np.arange(num_sample)\n",
    "            np.random.shuffle(training_indices)  # randomly shuffle the training samples\n",
    "            ratings = self.train_mat[sample_user, sample_movie]\n",
    "            for idx in training_indices:\n",
    "                u = sample_user[idx]\n",
    "                i = sample_movie[idx]\n",
    "                rating = ratings[idx]\n",
    "                p_u = self.P[u, :]\n",
    "                q_i = self.Q[i, :]\n",
    "                prediction = np.matmul(p_u, q_i.T)\n",
    "                error = prediction - rating\n",
    "                gradient_P = 2. * error * q_i + 2. * self.reg * p_u\n",
    "                gradient_Q = 2. * error * p_u + 2. * self.reg * q_i\n",
    "                self.P[u, :] -= self.lr * gradient_P\n",
    "                self.Q[i, :] -= self.lr * gradient_Q\n",
    "            self.test()\n",
    "\n",
    "\n",
    "            \n",
    "            \n",
    "            \"\"\"\n",
    "            End of your code for this function\n",
    "            \"\"\"\n",
    "            \n",
    "    def predict(self):\n",
    "        \"\"\"\n",
    "        Write your code here to implement the prediction function, which generates the ranked lists of movies \n",
    "        by the trained MF for every user, store the result (named 'recommendation') in a numpy array of size (#user, 50), where entry (u, k) \n",
    "        represents the movie id that is ranked at position k in the recommendation list to user u. Return the 'recommendation' variable. \n",
    "        \"\"\"\n",
    "\n",
    "        prediction_mat = np.matmul(self.P, self.Q.T)\n",
    "        recommendation = []\n",
    "        for u in range(self.num_user):\n",
    "            scores = prediction_mat[u]\n",
    "            train_like = np.where(train_mat[u, :] > 0)[0]\n",
    "            scores[train_like] = -9999\n",
    "            top50_iid = np.argpartition(scores, -50)[-50:]\n",
    "            top50_iid = top50_iid[np.argsort(scores[top50_iid])[-1::-1]]\n",
    "            recommendation.append(top50_iid)\n",
    "        recommendation = np.array(recommendation)\n",
    "                \n",
    "        \n",
    "        \"\"\"\n",
    "        End of your code for this function\n",
    "        \"\"\"\n",
    "        return recommendation\n",
    "    \n",
    "    def test(self):\n",
    "        recommendation = self.predict()\n",
    "\n",
    "        recalls = np.zeros(3)\n",
    "        precisions = np.zeros(3)\n",
    "        user_count = 0.\n",
    "\n",
    "        for u in range(self.num_user):\n",
    "            test_like = self.user_test_like[u]\n",
    "            test_like_num = len(test_like)\n",
    "            if test_like_num == 0:\n",
    "                continue\n",
    "            rec = recommendation[u, :]\n",
    "            hits = np.zeros(3)\n",
    "            for k in range(50):\n",
    "                if rec[k] in test_like:\n",
    "                    if k < 50:\n",
    "                        hits[2] += 1\n",
    "                        if k < 20:\n",
    "                            hits[1] += 1\n",
    "                            if k < 5:\n",
    "                                hits[0] += 1\n",
    "            recalls[0] += (hits[0] / test_like_num)\n",
    "            recalls[1] += (hits[1] / test_like_num)\n",
    "            recalls[2] += (hits[2] / test_like_num)\n",
    "            precisions[0] += (hits[0] / 5.)\n",
    "            precisions[1] += (hits[1] / 20.)\n",
    "            precisions[2] += (hits[2] / 50.)\n",
    "            user_count += 1\n",
    "\n",
    "        recalls /= user_count\n",
    "        precisions /= user_count\n",
    "\n",
    "        print('recall@5\\t[%.6f],\\t||\\t recall@20\\t[%.6f],\\t||\\t recall@50\\t[%.6f]' % (recalls[0], recalls[1], recalls[2]))\n",
    "        print('precision@5\\t[%.6f],\\t||\\t precision@20\\t[%.6f],\\t||\\t precision@50\\t[%.6f]' % (precisions[0], precisions[1], precisions[2]))\n",
    "        print('')"
   ]
  },
  {
   "cell_type": "markdown",
   "metadata": {},
   "source": [
    "Now, run the next cell to build and train your implemented MF model for implicit feedback. The expected time used for training one epoch is 20s to 2 min."
   ]
  },
  {
   "cell_type": "code",
   "execution_count": 11,
   "metadata": {},
   "outputs": [
    {
     "name": "stdout",
     "output_type": "stream",
     "text": [
      "recall@5\t[0.012849],\t||\t recall@20\t[0.056345],\t||\t recall@50\t[0.134828]\n",
      "precision@5\t[0.146755],\t||\t precision@20\t[0.140728],\t||\t precision@50\t[0.127046]\n",
      "\n",
      "recall@5\t[0.024580],\t||\t recall@20\t[0.087895],\t||\t recall@50\t[0.170371]\n",
      "precision@5\t[0.209834],\t||\t precision@20\t[0.185190],\t||\t precision@50\t[0.146437]\n",
      "\n",
      "recall@5\t[0.027846],\t||\t recall@20\t[0.090303],\t||\t recall@50\t[0.175517]\n",
      "precision@5\t[0.230762],\t||\t precision@20\t[0.186606],\t||\t precision@50\t[0.149199]\n",
      "\n",
      "recall@5\t[0.030342],\t||\t recall@20\t[0.092491],\t||\t recall@50\t[0.175865]\n",
      "precision@5\t[0.237848],\t||\t precision@20\t[0.192334],\t||\t precision@50\t[0.151728]\n",
      "\n",
      "recall@5\t[0.030372],\t||\t recall@20\t[0.097251],\t||\t recall@50\t[0.180342]\n",
      "precision@5\t[0.245464],\t||\t precision@20\t[0.200207],\t||\t precision@50\t[0.156772]\n",
      "\n",
      "recall@5\t[0.029461],\t||\t recall@20\t[0.093341],\t||\t recall@50\t[0.184170]\n",
      "precision@5\t[0.252285],\t||\t precision@20\t[0.206573],\t||\t precision@50\t[0.166877]\n",
      "\n",
      "recall@5\t[0.025397],\t||\t recall@20\t[0.089526],\t||\t recall@50\t[0.184868]\n",
      "precision@5\t[0.237483],\t||\t precision@20\t[0.207020],\t||\t precision@50\t[0.171262]\n",
      "\n",
      "recall@5\t[0.028826],\t||\t recall@20\t[0.096124],\t||\t recall@50\t[0.194684]\n",
      "precision@5\t[0.252715],\t||\t precision@20\t[0.218427],\t||\t precision@50\t[0.180146]\n",
      "\n",
      "recall@5\t[0.031602],\t||\t recall@20\t[0.100549],\t||\t recall@50\t[0.200078]\n",
      "precision@5\t[0.271954],\t||\t precision@20\t[0.224139],\t||\t precision@50\t[0.183477]\n",
      "\n",
      "recall@5\t[0.031824],\t||\t recall@20\t[0.104472],\t||\t recall@50\t[0.207829]\n",
      "precision@5\t[0.271556],\t||\t precision@20\t[0.229834],\t||\t precision@50\t[0.189020]\n",
      "\n",
      "recall@5\t[0.031759],\t||\t recall@20\t[0.106179],\t||\t recall@50\t[0.213877]\n",
      "precision@5\t[0.270364],\t||\t precision@20\t[0.232086],\t||\t precision@50\t[0.192026]\n",
      "\n",
      "recall@5\t[0.034503],\t||\t recall@20\t[0.111192],\t||\t recall@50\t[0.217795]\n",
      "precision@5\t[0.283179],\t||\t precision@20\t[0.236449],\t||\t precision@50\t[0.193735]\n",
      "\n",
      "recall@5\t[0.034380],\t||\t recall@20\t[0.112193],\t||\t recall@50\t[0.224862]\n",
      "precision@5\t[0.278046],\t||\t precision@20\t[0.235728],\t||\t precision@50\t[0.195954]\n",
      "\n",
      "recall@5\t[0.035416],\t||\t recall@20\t[0.114322],\t||\t recall@50\t[0.226601]\n",
      "precision@5\t[0.280199],\t||\t precision@20\t[0.238411],\t||\t precision@50\t[0.197738]\n",
      "\n",
      "recall@5\t[0.036847],\t||\t recall@20\t[0.119641],\t||\t recall@50\t[0.236152]\n",
      "precision@5\t[0.286126],\t||\t precision@20\t[0.242558],\t||\t precision@50\t[0.200189]\n",
      "\n",
      "recall@5\t[0.035784],\t||\t recall@20\t[0.118683],\t||\t recall@50\t[0.237328]\n",
      "precision@5\t[0.284437],\t||\t precision@20\t[0.241854],\t||\t precision@50\t[0.201960]\n",
      "\n",
      "recall@5\t[0.038302],\t||\t recall@20\t[0.121767],\t||\t recall@50\t[0.238362]\n",
      "precision@5\t[0.289536],\t||\t precision@20\t[0.243278],\t||\t precision@50\t[0.200725]\n",
      "\n",
      "recall@5\t[0.038382],\t||\t recall@20\t[0.122618],\t||\t recall@50\t[0.241371]\n",
      "precision@5\t[0.285861],\t||\t precision@20\t[0.243767],\t||\t precision@50\t[0.200907]\n",
      "\n",
      "recall@5\t[0.039023],\t||\t recall@20\t[0.123410],\t||\t recall@50\t[0.243713]\n",
      "precision@5\t[0.291623],\t||\t precision@20\t[0.244404],\t||\t precision@50\t[0.201930]\n",
      "\n",
      "recall@5\t[0.039807],\t||\t recall@20\t[0.126814],\t||\t recall@50\t[0.246439]\n",
      "precision@5\t[0.293079],\t||\t precision@20\t[0.248270],\t||\t precision@50\t[0.202858]\n",
      "\n"
     ]
    }
   ],
   "source": [
    "mf_implicit = MF_implicit(train_mat, test_mat, latent=5, lr=0.01, reg=0.0001)\n",
    "mf_implicit.train(epoch=20)"
   ]
  },
  {
   "cell_type": "code",
   "execution_count": null,
   "metadata": {},
   "outputs": [],
   "source": []
  },
  {
   "cell_type": "code",
   "execution_count": null,
   "metadata": {},
   "outputs": [],
   "source": []
  }
 ],
 "metadata": {
  "anaconda-cloud": {},
  "kernelspec": {
   "display_name": "Python 3",
   "language": "python",
   "name": "python3"
  },
  "language_info": {
   "codemirror_mode": {
    "name": "ipython",
    "version": 3
   },
   "file_extension": ".py",
   "mimetype": "text/x-python",
   "name": "python",
   "nbconvert_exporter": "python",
   "pygments_lexer": "ipython3",
   "version": "3.8.5"
  }
 },
 "nbformat": 4,
 "nbformat_minor": 2
}
